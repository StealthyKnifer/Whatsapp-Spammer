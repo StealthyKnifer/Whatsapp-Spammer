{
 "cells": [
  {
   "cell_type": "code",
   "execution_count": null,
   "metadata": {},
   "outputs": [],
   "source": [
    "import time\n",
    "from selenium import webdriver\n",
    "from selenium.webdriver.support.ui import WebDriverWait\n",
    "from selenium.webdriver.support import expected_conditions as EC\n",
    "from selenium.webdriver.common.keys import Keys\n",
    "from selenium.webdriver.common.by import By\n",
    "import os\n",
    "import urllib"
   ]
  },
  {
   "cell_type": "code",
   "execution_count": null,
   "metadata": {},
   "outputs": [],
   "source": [
    "def driver_start():\n",
    "    options = webdriver.ChromeOptions()\n",
    "    if not os.path.exists('data'):\n",
    "        os.mkdir(\"data\")\n",
    "    options.add_argument(r'user-data-dir=./data')\n",
    "    chromedriver = webdriver.Chrome(executable_path=r'chromedriver.exe', options=options)\n",
    "    wait = wait = WebDriverWait(chromeDriver,30)\n",
    "    return chromedriver,wait"
   ]
  },
  {
   "cell_type": "code",
   "execution_count": null,
   "metadata": {},
   "outputs": [],
   "source": [
    "#FESTIVAL\n",
    "try:\n",
    "    contact = input(\"Enter contact name with comma in between :-\").split(\",\")\n",
    "    festival = input(\"Enter occation with message :- \")\n",
    "    chromedriver,wait = driver_start()\n",
    "    chromedriver.get('https://images.google.com')\n",
    "    search = chromedriver.find_element_by_name('q')\n",
    "    search.send_keys(festival + Keys.ENTER)\n",
    "    elem1 = chromedriver.find_element_by_id('islmp')\n",
    "    sub = elem1.find_elements_by_tag_name('img')\n",
    "    imgLink = sub[0].get_attribute('src')\n",
    "    urllib.request.urlretrieve(imgLink, \"temp.jpg\")\n",
    "    chromedriver.get('https://web.whatsapp.com/')\n",
    "    for userName in contact:\n",
    "        searchXPath = '//*[@id=\"side\"]/div[1]/div/label/div/div[2]'\n",
    "        search = wait.until(EC.element_to_be_clickable((By.XPATH,searchXPath)))\n",
    "        search.send_keys(userName)\n",
    "        userXPath = \"/html/body/div[1]/div/div/div[3]/div/div[2]/div[1]/div/div/div[21]/div/div\"\n",
    "        user = wait.until(EC.presence_of_element_located((By.XPATH,userXPath)))\n",
    "        user.click()\n",
    "        wait.until(EC.presence_of_element_located((By.CSS_SELECTOR,\"span[data-icon='clip']\"))).click()\n",
    "        wait.until(EC.presence_of_element_located((By.CSS_SELECTOR,\"input[type='file']\"))).send_keys(os.getcwd()+\"\\\\temp.jpg\");\n",
    "        wait.until(EC.presence_of_element_located((By.CSS_SELECTOR,\"span[data-icon='send']\"))).click()\n",
    "        inputXPath = '//*[@id=\"main\"]/footer/div[1]/div[2]/div/div[2]'\n",
    "        inputBox = wait.until(EC.element_to_be_clickable((By.XPATH,inputXPath)))\n",
    "        inputBox.send_keys(festival+Keys.ENTER)\n",
    "    chromedriver.close()\n",
    "except:\n",
    "    pass"
   ]
  },
  {
   "cell_type": "code",
   "execution_count": null,
   "metadata": {
    "scrolled": true
   },
   "outputs": [],
   "source": [
    "#SPAMMER\n",
    "try:\n",
    "    chromedriver,wait = driver_start()\n",
    "    contact = input(\"Enter contact name with comma in between :-\").split(\",\")\n",
    "    message = input(\"Enter what to send :- \")\n",
    "    n = int(input(\"Enter no of times to send message :- \"))\n",
    "    chromedriver.get('https://web.whatsapp.com/')\n",
    "    for userName in contact:\n",
    "        searchXPath = '//*[@id=\"side\"]/div[1]/div/label/div/div[2]'\n",
    "        search = wait.until(EC.element_to_be_clickable((By.XPATH,searchXPath)))\n",
    "        search.send_keys(userName)\n",
    "        userXPath = \"//*[@style=\"z-\"]\"\n",
    "        user = wait.until(EC.presence_of_element_located((By.XPATH,userXPath)))\n",
    "        user.click()\n",
    "        inputXPath = '//*[@id=\"main\"]/footer/div[1]/div[2]/div/div[2]'\n",
    "        for i in range(n):\n",
    "            inputBox = wait.until(EC.element_to_be_clickable((By.XPATH,inputXPath)))\n",
    "            inputBox.send_keys(message+Keys.ENTER)\n",
    "            time.sleep(2)\n",
    "    chromedriver.close()\n",
    "except:\n",
    "    pass"
   ]
  }
 ],
 "metadata": {
  "kernelspec": {
   "display_name": "Python 3",
   "language": "python",
   "name": "python3"
  },
  "language_info": {
   "codemirror_mode": {
    "name": "ipython",
    "version": 3
   },
   "file_extension": ".py",
   "mimetype": "text/x-python",
   "name": "python",
   "nbconvert_exporter": "python",
   "pygments_lexer": "ipython3",
   "version": "3.8.5"
  }
 },
 "nbformat": 4,
 "nbformat_minor": 4
}
